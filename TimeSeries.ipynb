{
 "cells": [
  {
   "cell_type": "markdown",
   "id": "60473d29",
   "metadata": {},
   "source": [
    "# Time Series"
   ]
  },
  {
   "cell_type": "code",
   "execution_count": 1,
   "id": "938475fa",
   "metadata": {},
   "outputs": [
    {
     "name": "stdout",
     "output_type": "stream",
     "text": [
      "2022-12-05 14:37:03.027405\n",
      "2022\n",
      "12\n",
      "5\n",
      "14\n",
      "37\n",
      "3\n",
      "27405\n"
     ]
    }
   ],
   "source": [
    "from datetime import datetime\n",
    "now = datetime.now()\n",
    "print(now)\n",
    "print(now.year)\n",
    "print(now.month)\n",
    "print(now.day)\n",
    "print(now.hour)\n",
    "print(now.minute)\n",
    "print(now.second)\n",
    "print(now.microsecond)"
   ]
  },
  {
   "cell_type": "markdown",
   "id": "27c12db5",
   "metadata": {},
   "source": [
    "### convert  string to datetime using datetime.strptime(string , its format)"
   ]
  },
  {
   "cell_type": "code",
   "execution_count": null,
   "id": "1489397a",
   "metadata": {},
   "outputs": [],
   "source": [
    "## %H  Hour (24-hour clock)\n",
    "## %I Hour (12-hour clock) \n",
    "## %b Month  abbreviated name\n",
    "## %f Microsecond \n",
    "## %z UTC offset in the form ±HHMM"
   ]
  },
  {
   "cell_type": "code",
   "execution_count": 62,
   "id": "c2faba2d",
   "metadata": {},
   "outputs": [
    {
     "name": "stdout",
     "output_type": "stream",
     "text": [
      "2003-03-14 10:27:05\n"
     ]
    }
   ],
   "source": [
    "d = \"14 2003 Mar 10:27:05\"  \n",
    "print(datetime.strptime(d,'%d %Y %b %H:%M:%S'))"
   ]
  },
  {
   "cell_type": "code",
   "execution_count": 2,
   "id": "9a99e53e",
   "metadata": {},
   "outputs": [
    {
     "name": "stdout",
     "output_type": "stream",
     "text": [
      "2003-01-02 10:27:05.123400\n"
     ]
    }
   ],
   "source": [
    "d = \"02-01-2003 10:27:05.1234\"  \n",
    "print(datetime.strptime(d,'%d-%m-%Y %H:%M:%S.%f'))## here both H or I works \n"
   ]
  },
  {
   "cell_type": "code",
   "execution_count": 5,
   "id": "a801644f",
   "metadata": {},
   "outputs": [
    {
     "data": {
      "text/plain": [
       "datetime.datetime(2003, 4, 2, 22, 27, 5)"
      ]
     },
     "execution_count": 5,
     "metadata": {},
     "output_type": "execute_result"
    }
   ],
   "source": [
    "d = \"02-04-2003 10:27:05 PM\"     ## it remains in string type . we need to convert it into datetime format\n",
    "type(d)\n",
    "datetime.strptime(d,'%d-%m-%Y %I:%M:%S  %p') ## pass string and its format  (note in this case write I instead of H)"
   ]
  },
  {
   "cell_type": "code",
   "execution_count": 7,
   "id": "1e16424b",
   "metadata": {},
   "outputs": [
    {
     "data": {
      "text/plain": [
       "59"
      ]
     },
     "execution_count": 7,
     "metadata": {},
     "output_type": "execute_result"
    }
   ],
   "source": [
    "date1 = datetime(2010,8,8,2,57,59,123)           \n",
    "date1.second\n",
    "## only accept in format year,month,day,hour,min,sec,microsecond\n",
    "## require minimum 3 arguments \n",
    "## seconds and minutes must be in range 0 to 59\n",
    "## if not given optional arguments it assumes them to be 0"
   ]
  },
  {
   "cell_type": "code",
   "execution_count": 37,
   "id": "1147b9da",
   "metadata": {},
   "outputs": [
    {
     "data": {
      "text/plain": [
       "0"
      ]
     },
     "execution_count": 37,
     "metadata": {},
     "output_type": "execute_result"
    }
   ],
   "source": [
    "date2 = datetime(2010,8,8)\n",
    "date2.hour"
   ]
  },
  {
   "cell_type": "markdown",
   "id": "b31b36c8",
   "metadata": {},
   "source": [
    "### Convert string to date using dateutil.parser.parse(string)          (no need to tell format of passed string)"
   ]
  },
  {
   "cell_type": "code",
   "execution_count": 99,
   "id": "a0b64d2c",
   "metadata": {},
   "outputs": [
    {
     "name": "stdout",
     "output_type": "stream",
     "text": [
      "2003-02-03 00:00:00\n",
      "3\n"
     ]
    }
   ],
   "source": [
    "from dateutil.parser import parse\n",
    "d = parse(\"02-03-2003\")\n",
    "print(d)\n",
    "print(d.day) ## it takes month first and then day"
   ]
  },
  {
   "cell_type": "code",
   "execution_count": 98,
   "id": "79699a1f",
   "metadata": {},
   "outputs": [
    {
     "data": {
      "text/plain": [
       "datetime.datetime(2003, 4, 2, 0, 0)"
      ]
     },
     "execution_count": 98,
     "metadata": {},
     "output_type": "execute_result"
    }
   ],
   "source": [
    "parse(\"02/04/2003\" , dayfirst = True)"
   ]
  },
  {
   "cell_type": "code",
   "execution_count": 96,
   "id": "2d4b2132",
   "metadata": {},
   "outputs": [
    {
     "data": {
      "text/plain": [
       "datetime.datetime(2003, 2, 1, 13, 40)"
      ]
     },
     "execution_count": 96,
     "metadata": {},
     "output_type": "execute_result"
    }
   ],
   "source": [
    "parse(\"Feb 01 2003 1:40 PM\")"
   ]
  },
  {
   "cell_type": "code",
   "execution_count": 102,
   "id": "9eb1d511",
   "metadata": {},
   "outputs": [
    {
     "data": {
      "text/plain": [
       "datetime.datetime(2003, 2, 1, 2, 0)"
      ]
     },
     "execution_count": 102,
     "metadata": {},
     "output_type": "execute_result"
    }
   ],
   "source": [
    "parse(\"Feb 01 2003 2:00 AM\")"
   ]
  },
  {
   "cell_type": "code",
   "execution_count": 100,
   "id": "b95f5876",
   "metadata": {},
   "outputs": [
    {
     "data": {
      "text/plain": [
       "datetime.datetime(2010, 8, 7, 10, 13, 45)"
      ]
     },
     "execution_count": 100,
     "metadata": {},
     "output_type": "execute_result"
    }
   ],
   "source": [
    "parse(\"Aug 07 2010 10:13:45\")"
   ]
  },
  {
   "cell_type": "markdown",
   "id": "b95b8a03",
   "metadata": {},
   "source": [
    "### convert datetime to string  using date.strftime(format)"
   ]
  },
  {
   "cell_type": "code",
   "execution_count": 79,
   "id": "94a7a557",
   "metadata": {},
   "outputs": [
    {
     "name": "stdout",
     "output_type": "stream",
     "text": [
      "2011-01-03 00:00:00\n"
     ]
    },
    {
     "data": {
      "text/plain": [
       "'29-09-1999  02:30:42'"
      ]
     },
     "execution_count": 79,
     "metadata": {},
     "output_type": "execute_result"
    }
   ],
   "source": [
    "date3 = datetime(2011,1,3)\n",
    "print(str(date3))\n",
    "date4= datetime(1999,9,29,2,30,42)\n",
    "date4.strftime('%d-%m-%Y  %H:%M:%S')  ## %y give only 99"
   ]
  },
  {
   "cell_type": "markdown",
   "id": "22492263",
   "metadata": {},
   "source": [
    "### creating series with timestamps as indices  using pd.date_range(start,end periods,freq,tz)"
   ]
  },
  {
   "cell_type": "code",
   "execution_count": 113,
   "id": "68ca784f",
   "metadata": {},
   "outputs": [
    {
     "name": "stdout",
     "output_type": "stream",
     "text": [
      "DatetimeIndex(['2022-11-12', '2022-11-13', '2022-11-14', '2022-11-15',\n",
      "               '2022-11-16', '2022-11-17', '2022-11-18', '2022-11-19',\n",
      "               '2022-11-20', '2022-11-21'],\n",
      "              dtype='datetime64[ns]', freq='D')\n",
      "2022-11-12    0\n",
      "2022-11-13    1\n",
      "2022-11-14    2\n",
      "2022-11-15    3\n",
      "2022-11-16    4\n",
      "2022-11-17    5\n",
      "2022-11-18    6\n",
      "2022-11-19    7\n",
      "2022-11-20    8\n",
      "2022-11-21    9\n",
      "Freq: D, dtype: int32\n",
      "DatetimeIndex(['2022-11-12', '2022-11-13', '2022-11-14', '2022-11-15',\n",
      "               '2022-11-16', '2022-11-17', '2022-11-18', '2022-11-19',\n",
      "               '2022-11-20', '2022-11-21'],\n",
      "              dtype='datetime64[ns]', freq='D')\n",
      "element:  4\n"
     ]
    }
   ],
   "source": [
    "import numpy as np\n",
    "import pandas as pd\n",
    "dates = pd.date_range(\"2022-11-12\" , periods=10) ## freq is daily by dafault . \n",
    "print(dates)\n",
    "s1 = pd.Series(np.arange(10) , index = dates)\n",
    "print(s1)\n",
    "print(s1.index)\n",
    "print(\"element: \",s1[\"2022-11-16\"])"
   ]
  },
  {
   "cell_type": "code",
   "execution_count": 117,
   "id": "f5140399",
   "metadata": {},
   "outputs": [
    {
     "data": {
      "text/plain": [
       "DatetimeIndex(['2022-11-30', '2022-12-31', '2023-01-31', '2023-02-28',\n",
       "               '2023-03-31', '2023-04-30', '2023-05-31', '2023-06-30',\n",
       "               '2023-07-31', '2023-08-31'],\n",
       "              dtype='datetime64[ns]', freq='M')"
      ]
     },
     "execution_count": 117,
     "metadata": {},
     "output_type": "execute_result"
    }
   ],
   "source": [
    "pd.date_range(\"2022-11-12\" , periods=10 ,freq='M') ## M is month end date "
   ]
  },
  {
   "cell_type": "code",
   "execution_count": 10,
   "id": "8ca50dab",
   "metadata": {},
   "outputs": [
    {
     "data": {
      "text/plain": [
       "DatetimeIndex(['2022-12-03', '2022-12-10', '2022-12-17', '2022-12-24',\n",
       "               '2022-12-31', '2023-01-07', '2023-01-14', '2023-01-21',\n",
       "               '2023-01-28', '2023-02-04'],\n",
       "              dtype='datetime64[ns]', freq='W-SAT')"
      ]
     },
     "execution_count": 10,
     "metadata": {},
     "output_type": "execute_result"
    }
   ],
   "source": [
    "pd.date_range(start ='12-01-2022',periods=10,freq='W-SAT' ) ## every saturday of week"
   ]
  },
  {
   "cell_type": "code",
   "execution_count": 13,
   "id": "af5f6888",
   "metadata": {},
   "outputs": [
    {
     "data": {
      "text/plain": [
       "DatetimeIndex(['2022-12-03', '2023-01-07', '2023-02-04', '2023-03-04',\n",
       "               '2023-04-01', '2023-05-06', '2023-06-03', '2023-07-01',\n",
       "               '2023-08-05', '2023-09-02'],\n",
       "              dtype='datetime64[ns]', freq='WOM-1SAT')"
      ]
     },
     "execution_count": 13,
     "metadata": {},
     "output_type": "execute_result"
    }
   ],
   "source": [
    "pd.date_range(start ='12-01-2022',periods=10,freq='WOM-1SAT' ) ## every first saturday of month"
   ]
  },
  {
   "cell_type": "code",
   "execution_count": 129,
   "id": "b8617bf0",
   "metadata": {},
   "outputs": [
    {
     "data": {
      "text/plain": [
       "DatetimeIndex(['2018-01-02', '2018-01-03', '2018-01-04', '2018-01-05',\n",
       "               '2018-01-06', '2018-01-07', '2018-01-08', '2018-01-09',\n",
       "               '2018-01-10', '2018-01-11', '2018-01-12', '2018-01-13',\n",
       "               '2018-01-14', '2018-01-15', '2018-01-16', '2018-01-17',\n",
       "               '2018-01-18', '2018-01-19', '2018-01-20', '2018-01-21',\n",
       "               '2018-01-22', '2018-01-23', '2018-01-24', '2018-01-25',\n",
       "               '2018-01-26', '2018-01-27', '2018-01-28', '2018-01-29',\n",
       "               '2018-01-30', '2018-01-31', '2018-02-01', '2018-02-02',\n",
       "               '2018-02-03', '2018-02-04', '2018-02-05', '2018-02-06',\n",
       "               '2018-02-07', '2018-02-08', '2018-02-09', '2018-02-10',\n",
       "               '2018-02-11', '2018-02-12', '2018-02-13', '2018-02-14',\n",
       "               '2018-02-15', '2018-02-16', '2018-02-17', '2018-02-18',\n",
       "               '2018-02-19', '2018-02-20', '2018-02-21', '2018-02-22',\n",
       "               '2018-02-23', '2018-02-24', '2018-02-25', '2018-02-26',\n",
       "               '2018-02-27', '2018-02-28', '2018-03-01', '2018-03-02'],\n",
       "              dtype='datetime64[ns]', freq='D')"
      ]
     },
     "execution_count": 129,
     "metadata": {},
     "output_type": "execute_result"
    }
   ],
   "source": [
    "pd.date_range(start ='01-02-2018', end ='03-02-2018') ## it also takes month before day        "
   ]
  },
  {
   "cell_type": "code",
   "execution_count": 131,
   "id": "61dde8b0",
   "metadata": {},
   "outputs": [
    {
     "data": {
      "text/plain": [
       "DatetimeIndex(['2003-04-20 00:00:00', '2003-04-20 03:00:00',\n",
       "               '2003-04-20 06:00:00', '2003-04-20 09:00:00',\n",
       "               '2003-04-20 12:00:00'],\n",
       "              dtype='datetime64[ns]', freq='3H')"
      ]
     },
     "execution_count": 131,
     "metadata": {},
     "output_type": "execute_result"
    }
   ],
   "source": [
    "pd.date_range(start ='04-20-2003' , periods=5 , freq='3H') ## after 3 hours "
   ]
  },
  {
   "cell_type": "code",
   "execution_count": 9,
   "id": "592503ab",
   "metadata": {},
   "outputs": [
    {
     "data": {
      "text/plain": [
       "DatetimeIndex(['2003-04-19 18:00:00', '2003-04-19 19:30:00',\n",
       "               '2003-04-19 21:00:00', '2003-04-19 22:30:00',\n",
       "               '2003-04-20 00:00:00'],\n",
       "              dtype='datetime64[ns]', freq='90T')"
      ]
     },
     "execution_count": 9,
     "metadata": {},
     "output_type": "execute_result"
    }
   ],
   "source": [
    "import pandas as pd\n",
    "pd.date_range(end ='04-20-2003' , periods=5 , freq='1h30min' )"
   ]
  },
  {
   "cell_type": "code",
   "execution_count": 136,
   "id": "012d4f91",
   "metadata": {},
   "outputs": [
    {
     "data": {
      "text/plain": [
       "DatetimeIndex(['2022-11-14', '2022-11-15', '2022-11-16', '2022-11-17',\n",
       "               '2022-11-18', '2022-11-21', '2022-11-22', '2022-11-23',\n",
       "               '2022-11-24', '2022-11-25', '2022-11-28', '2022-11-29',\n",
       "               '2022-11-30', '2022-12-01', '2022-12-02'],\n",
       "              dtype='datetime64[ns]', freq='B')"
      ]
     },
     "execution_count": 136,
     "metadata": {},
     "output_type": "execute_result"
    }
   ],
   "source": [
    "pd.date_range(start ='11-12-2022' , periods=13 , freq='B') ## only business day excluding holidays and sundays"
   ]
  },
  {
   "cell_type": "code",
   "execution_count": 139,
   "id": "753561f9",
   "metadata": {},
   "outputs": [
    {
     "data": {
      "text/plain": [
       "DatetimeIndex(['2022-11-12 00:00:00', '2022-11-12 00:00:05',\n",
       "               '2022-11-12 00:00:10', '2022-11-12 00:00:15',\n",
       "               '2022-11-12 00:00:20'],\n",
       "              dtype='datetime64[ns]', freq='5S')"
      ]
     },
     "execution_count": 139,
     "metadata": {},
     "output_type": "execute_result"
    }
   ],
   "source": [
    "pd.date_range(start ='11-12-2022' , periods=5 , freq='5S') ## after every 5 seconds"
   ]
  },
  {
   "cell_type": "code",
   "execution_count": 150,
   "id": "0586fc46",
   "metadata": {},
   "outputs": [
    {
     "data": {
      "text/html": [
       "<div>\n",
       "<style scoped>\n",
       "    .dataframe tbody tr th:only-of-type {\n",
       "        vertical-align: middle;\n",
       "    }\n",
       "\n",
       "    .dataframe tbody tr th {\n",
       "        vertical-align: top;\n",
       "    }\n",
       "\n",
       "    .dataframe thead th {\n",
       "        text-align: right;\n",
       "    }\n",
       "</style>\n",
       "<table border=\"1\" class=\"dataframe\">\n",
       "  <thead>\n",
       "    <tr style=\"text-align: right;\">\n",
       "      <th></th>\n",
       "      <th>schedule date</th>\n",
       "    </tr>\n",
       "  </thead>\n",
       "  <tbody>\n",
       "    <tr>\n",
       "      <th>0</th>\n",
       "      <td>2018-01-01 00:00:00+09:00</td>\n",
       "    </tr>\n",
       "    <tr>\n",
       "      <th>1</th>\n",
       "      <td>2018-01-02 00:00:00+09:00</td>\n",
       "    </tr>\n",
       "    <tr>\n",
       "      <th>2</th>\n",
       "      <td>2018-01-03 00:00:00+09:00</td>\n",
       "    </tr>\n",
       "    <tr>\n",
       "      <th>3</th>\n",
       "      <td>2018-01-04 00:00:00+09:00</td>\n",
       "    </tr>\n",
       "    <tr>\n",
       "      <th>4</th>\n",
       "      <td>2018-01-05 00:00:00+09:00</td>\n",
       "    </tr>\n",
       "  </tbody>\n",
       "</table>\n",
       "</div>"
      ],
      "text/plain": [
       "              schedule date\n",
       "0 2018-01-01 00:00:00+09:00\n",
       "1 2018-01-02 00:00:00+09:00\n",
       "2 2018-01-03 00:00:00+09:00\n",
       "3 2018-01-04 00:00:00+09:00\n",
       "4 2018-01-05 00:00:00+09:00"
      ]
     },
     "execution_count": 150,
     "metadata": {},
     "output_type": "execute_result"
    }
   ],
   "source": [
    "i = pd.date_range(start ='1-1-2018',periods =5, tz ='Asia/Tokyo')\n",
    "pd.DataFrame(i,columns=[\"schedule date\"] )     "
   ]
  },
  {
   "cell_type": "markdown",
   "id": "fc7c5643",
   "metadata": {},
   "source": [
    "### slicing of time series  "
   ]
  },
  {
   "cell_type": "code",
   "execution_count": null,
   "id": "678d8708",
   "metadata": {},
   "outputs": [],
   "source": []
  }
 ],
 "metadata": {
  "kernelspec": {
   "display_name": "Python 3 (ipykernel)",
   "language": "python",
   "name": "python3"
  },
  "language_info": {
   "codemirror_mode": {
    "name": "ipython",
    "version": 3
   },
   "file_extension": ".py",
   "mimetype": "text/x-python",
   "name": "python",
   "nbconvert_exporter": "python",
   "pygments_lexer": "ipython3",
   "version": "3.9.12"
  }
 },
 "nbformat": 4,
 "nbformat_minor": 5
}
